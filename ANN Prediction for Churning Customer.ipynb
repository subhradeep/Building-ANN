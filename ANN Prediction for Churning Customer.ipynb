{
 "cells": [
  {
   "cell_type": "markdown",
   "metadata": {},
   "source": [
    "### Artificial Neural Network for Churning Customer"
   ]
  },
  {
   "cell_type": "code",
   "execution_count": 1,
   "metadata": {},
   "outputs": [],
   "source": [
    "import numpy as np\n",
    "import pandas as pd\n",
    "import matplotlib.pyplot as plt\n",
    "\n",
    "import warnings\n",
    "warnings.filterwarnings('ignore')"
   ]
  },
  {
   "cell_type": "code",
   "execution_count": 2,
   "metadata": {},
   "outputs": [],
   "source": [
    "df = pd.read_csv('../Building-ANN/Churn_Modelling.csv')"
   ]
  },
  {
   "cell_type": "code",
   "execution_count": 3,
   "metadata": {},
   "outputs": [
    {
     "data": {
      "text/html": [
       "<div>\n",
       "<style scoped>\n",
       "    .dataframe tbody tr th:only-of-type {\n",
       "        vertical-align: middle;\n",
       "    }\n",
       "\n",
       "    .dataframe tbody tr th {\n",
       "        vertical-align: top;\n",
       "    }\n",
       "\n",
       "    .dataframe thead th {\n",
       "        text-align: right;\n",
       "    }\n",
       "</style>\n",
       "<table border=\"1\" class=\"dataframe\">\n",
       "  <thead>\n",
       "    <tr style=\"text-align: right;\">\n",
       "      <th></th>\n",
       "      <th>RowNumber</th>\n",
       "      <th>CustomerId</th>\n",
       "      <th>Surname</th>\n",
       "      <th>CreditScore</th>\n",
       "      <th>Geography</th>\n",
       "      <th>Gender</th>\n",
       "      <th>Age</th>\n",
       "      <th>Tenure</th>\n",
       "      <th>Balance</th>\n",
       "      <th>NumOfProducts</th>\n",
       "      <th>HasCrCard</th>\n",
       "      <th>IsActiveMember</th>\n",
       "      <th>EstimatedSalary</th>\n",
       "      <th>Exited</th>\n",
       "    </tr>\n",
       "  </thead>\n",
       "  <tbody>\n",
       "    <tr>\n",
       "      <th>0</th>\n",
       "      <td>1</td>\n",
       "      <td>15634602</td>\n",
       "      <td>Hargrave</td>\n",
       "      <td>619</td>\n",
       "      <td>France</td>\n",
       "      <td>Female</td>\n",
       "      <td>42</td>\n",
       "      <td>2</td>\n",
       "      <td>0.00</td>\n",
       "      <td>1</td>\n",
       "      <td>1</td>\n",
       "      <td>1</td>\n",
       "      <td>101348.88</td>\n",
       "      <td>1</td>\n",
       "    </tr>\n",
       "    <tr>\n",
       "      <th>1</th>\n",
       "      <td>2</td>\n",
       "      <td>15647311</td>\n",
       "      <td>Hill</td>\n",
       "      <td>608</td>\n",
       "      <td>Spain</td>\n",
       "      <td>Female</td>\n",
       "      <td>41</td>\n",
       "      <td>1</td>\n",
       "      <td>83807.86</td>\n",
       "      <td>1</td>\n",
       "      <td>0</td>\n",
       "      <td>1</td>\n",
       "      <td>112542.58</td>\n",
       "      <td>0</td>\n",
       "    </tr>\n",
       "    <tr>\n",
       "      <th>2</th>\n",
       "      <td>3</td>\n",
       "      <td>15619304</td>\n",
       "      <td>Onio</td>\n",
       "      <td>502</td>\n",
       "      <td>France</td>\n",
       "      <td>Female</td>\n",
       "      <td>42</td>\n",
       "      <td>8</td>\n",
       "      <td>159660.80</td>\n",
       "      <td>3</td>\n",
       "      <td>1</td>\n",
       "      <td>0</td>\n",
       "      <td>113931.57</td>\n",
       "      <td>1</td>\n",
       "    </tr>\n",
       "    <tr>\n",
       "      <th>3</th>\n",
       "      <td>4</td>\n",
       "      <td>15701354</td>\n",
       "      <td>Boni</td>\n",
       "      <td>699</td>\n",
       "      <td>France</td>\n",
       "      <td>Female</td>\n",
       "      <td>39</td>\n",
       "      <td>1</td>\n",
       "      <td>0.00</td>\n",
       "      <td>2</td>\n",
       "      <td>0</td>\n",
       "      <td>0</td>\n",
       "      <td>93826.63</td>\n",
       "      <td>0</td>\n",
       "    </tr>\n",
       "    <tr>\n",
       "      <th>4</th>\n",
       "      <td>5</td>\n",
       "      <td>15737888</td>\n",
       "      <td>Mitchell</td>\n",
       "      <td>850</td>\n",
       "      <td>Spain</td>\n",
       "      <td>Female</td>\n",
       "      <td>43</td>\n",
       "      <td>2</td>\n",
       "      <td>125510.82</td>\n",
       "      <td>1</td>\n",
       "      <td>1</td>\n",
       "      <td>1</td>\n",
       "      <td>79084.10</td>\n",
       "      <td>0</td>\n",
       "    </tr>\n",
       "  </tbody>\n",
       "</table>\n",
       "</div>"
      ],
      "text/plain": [
       "   RowNumber  CustomerId   Surname  CreditScore Geography  Gender  Age  \\\n",
       "0          1    15634602  Hargrave          619    France  Female   42   \n",
       "1          2    15647311      Hill          608     Spain  Female   41   \n",
       "2          3    15619304      Onio          502    France  Female   42   \n",
       "3          4    15701354      Boni          699    France  Female   39   \n",
       "4          5    15737888  Mitchell          850     Spain  Female   43   \n",
       "\n",
       "   Tenure    Balance  NumOfProducts  HasCrCard  IsActiveMember  \\\n",
       "0       2       0.00              1          1               1   \n",
       "1       1   83807.86              1          0               1   \n",
       "2       8  159660.80              3          1               0   \n",
       "3       1       0.00              2          0               0   \n",
       "4       2  125510.82              1          1               1   \n",
       "\n",
       "   EstimatedSalary  Exited  \n",
       "0        101348.88       1  \n",
       "1        112542.58       0  \n",
       "2        113931.57       1  \n",
       "3         93826.63       0  \n",
       "4         79084.10       0  "
      ]
     },
     "execution_count": 3,
     "metadata": {},
     "output_type": "execute_result"
    }
   ],
   "source": [
    "df.head()"
   ]
  },
  {
   "cell_type": "markdown",
   "metadata": {},
   "source": [
    "Target Variable: <b>Exited </b>"
   ]
  },
  {
   "cell_type": "code",
   "execution_count": 4,
   "metadata": {},
   "outputs": [],
   "source": [
    "df['Geography'] = pd.get_dummies(df['Geography'],drop_first=True)\n",
    "df['Gender'] = pd.get_dummies(df['Gender'],drop_first=True)\n"
   ]
  },
  {
   "cell_type": "markdown",
   "metadata": {},
   "source": [
    "#### Splitting the data into dependent and Independent variables"
   ]
  },
  {
   "cell_type": "code",
   "execution_count": 5,
   "metadata": {},
   "outputs": [],
   "source": [
    "X = df.iloc[:,3:13].values\n",
    "y = df.iloc[:,13].values\n"
   ]
  },
  {
   "cell_type": "markdown",
   "metadata": {},
   "source": [
    "#### Splitting the data into Train and Test variables"
   ]
  },
  {
   "cell_type": "code",
   "execution_count": 6,
   "metadata": {},
   "outputs": [],
   "source": [
    "from sklearn.model_selection import train_test_split\n",
    "X_train,X_test,y_train,y_test = train_test_split(X,y,test_size=0.2,random_state=0)"
   ]
  },
  {
   "cell_type": "markdown",
   "metadata": {},
   "source": [
    "#### Scaling the data "
   ]
  },
  {
   "cell_type": "code",
   "execution_count": 7,
   "metadata": {},
   "outputs": [],
   "source": [
    "from sklearn.preprocessing import StandardScaler\n",
    "\n",
    "sc = StandardScaler()\n",
    "X_train = sc.fit_transform(X_train)\n",
    "X_test = sc.fit_transform(X_test)"
   ]
  },
  {
   "cell_type": "markdown",
   "metadata": {},
   "source": [
    "#### Implementing ANN"
   ]
  },
  {
   "cell_type": "code",
   "execution_count": 8,
   "metadata": {},
   "outputs": [
    {
     "name": "stderr",
     "output_type": "stream",
     "text": [
      "Using TensorFlow backend.\n"
     ]
    }
   ],
   "source": [
    "import keras\n",
    "from keras.models import Sequential\n",
    "from keras.layers import Dense"
   ]
  },
  {
   "cell_type": "markdown",
   "metadata": {},
   "source": [
    "### Implementing the Input and Hidden Layer"
   ]
  },
  {
   "cell_type": "code",
   "execution_count": 9,
   "metadata": {},
   "outputs": [],
   "source": [
    "classifier = Sequential()\n",
    "#Adding the input layer and the first hidden layer\n",
    "classifier.add(Dense(output_dim=6,activation='relu',input_dim=10))\n",
    "\n",
    "#Adding second hidden layer\n",
    "classifier.add(Dense(output_dim=6,activation='relu'))"
   ]
  },
  {
   "cell_type": "markdown",
   "metadata": {},
   "source": [
    "### Adding the output layer:\n",
    "\n",
    "Updating the activation function using sigmoid function\n",
    "\n",
    "a. If there are multiple categories, output_dim will be 3,\n",
    "\n",
    "b. Sigmoid function will be <b>softmax</b>,if the categories are more than 2.\n"
   ]
  },
  {
   "cell_type": "code",
   "execution_count": 10,
   "metadata": {},
   "outputs": [],
   "source": [
    "classifier.add(Dense(output_dim=1,init ='uniform',activation='sigmoid'))"
   ]
  },
  {
   "cell_type": "markdown",
   "metadata": {},
   "source": [
    "### Compiling the ANN\n",
    "\n",
    "<b>a.Optimizer:</b> The algorithm to find the optimal/best set of weights. Adam is one of the algorithm \n",
    "\n",
    "<b>a. Loss function:</b> for NN , 1 neuron - Logistic regression, loss function will be logarithmic loss. \n",
    "\n",
    "Binary outcome(0/1)-<b>binary_corossentropy.</b> \n",
    "More than 2 categories- it will be <b>categorical_crossentropy</b>.\n",
    "\n",
    "<b>c. Metrics:</b>  Criterion which we choose to evaluate your metrics.\n",
    "\n",
    "\n"
   ]
  },
  {
   "cell_type": "code",
   "execution_count": 11,
   "metadata": {},
   "outputs": [],
   "source": [
    "classifier.compile(optimizer='adam',loss='binary_crossentropy',metrics=['accuracy'])"
   ]
  },
  {
   "cell_type": "markdown",
   "metadata": {},
   "source": [
    "### Fitting the ANN to the training data\n",
    "\n",
    "batch_size: Number of samples per gradient update.\n",
    "\n",
    "Number of epoch : An epoch is an iteration over the entire `x` and `y` data provided."
   ]
  },
  {
   "cell_type": "code",
   "execution_count": 12,
   "metadata": {},
   "outputs": [
    {
     "name": "stdout",
     "output_type": "stream",
     "text": [
      "Epoch 1/100\n",
      "8000/8000 [==============================] - 2s 199us/step - loss: 0.5015 - accuracy: 0.7876\n",
      "Epoch 2/100\n",
      "8000/8000 [==============================] - 1s 187us/step - loss: 0.4374 - accuracy: 0.7960\n",
      "Epoch 3/100\n",
      "8000/8000 [==============================] - 1s 173us/step - loss: 0.4269 - accuracy: 0.8112\n",
      "Epoch 4/100\n",
      "8000/8000 [==============================] - 1s 173us/step - loss: 0.4201 - accuracy: 0.8213\n",
      "Epoch 5/100\n",
      "8000/8000 [==============================] - 1s 176us/step - loss: 0.4154 - accuracy: 0.8227\n",
      "Epoch 6/100\n",
      "8000/8000 [==============================] - 1s 175us/step - loss: 0.4126 - accuracy: 0.8254\n",
      "Epoch 7/100\n",
      "8000/8000 [==============================] - 1s 174us/step - loss: 0.4098 - accuracy: 0.8275\n",
      "Epoch 8/100\n",
      "8000/8000 [==============================] - 1s 177us/step - loss: 0.4091 - accuracy: 0.8267\n",
      "Epoch 9/100\n",
      "8000/8000 [==============================] - 1s 174us/step - loss: 0.4078 - accuracy: 0.8292\n",
      "Epoch 10/100\n",
      "8000/8000 [==============================] - 1s 176us/step - loss: 0.4064 - accuracy: 0.8294\n",
      "Epoch 11/100\n",
      "8000/8000 [==============================] - 1s 175us/step - loss: 0.4056 - accuracy: 0.8310\n",
      "Epoch 12/100\n",
      "8000/8000 [==============================] - 1s 182us/step - loss: 0.4047 - accuracy: 0.8292\n",
      "Epoch 13/100\n",
      "8000/8000 [==============================] - 1s 176us/step - loss: 0.4043 - accuracy: 0.8321\n",
      "Epoch 14/100\n",
      "8000/8000 [==============================] - 1s 179us/step - loss: 0.4036 - accuracy: 0.8314\n",
      "Epoch 15/100\n",
      "8000/8000 [==============================] - 1s 177us/step - loss: 0.4029 - accuracy: 0.8330\n",
      "Epoch 16/100\n",
      "8000/8000 [==============================] - 1s 182us/step - loss: 0.4022 - accuracy: 0.8328\n",
      "Epoch 17/100\n",
      "8000/8000 [==============================] - 1s 166us/step - loss: 0.4014 - accuracy: 0.8338\n",
      "Epoch 18/100\n",
      "8000/8000 [==============================] - 1s 161us/step - loss: 0.4007 - accuracy: 0.8345\n",
      "Epoch 19/100\n",
      "8000/8000 [==============================] - 1s 161us/step - loss: 0.3996 - accuracy: 0.8336\n",
      "Epoch 20/100\n",
      "8000/8000 [==============================] - 1s 159us/step - loss: 0.3988 - accuracy: 0.8342\n",
      "Epoch 21/100\n",
      "8000/8000 [==============================] - 1s 160us/step - loss: 0.3980 - accuracy: 0.8355\n",
      "Epoch 22/100\n",
      "8000/8000 [==============================] - 1s 161us/step - loss: 0.3969 - accuracy: 0.8345\n",
      "Epoch 23/100\n",
      "8000/8000 [==============================] - 1s 153us/step - loss: 0.3956 - accuracy: 0.8350\n",
      "Epoch 24/100\n",
      "8000/8000 [==============================] - 1s 156us/step - loss: 0.3946 - accuracy: 0.8347\n",
      "Epoch 25/100\n",
      "8000/8000 [==============================] - 1s 158us/step - loss: 0.3930 - accuracy: 0.8379\n",
      "Epoch 26/100\n",
      "8000/8000 [==============================] - 1s 147us/step - loss: 0.3923 - accuracy: 0.8382\n",
      "Epoch 27/100\n",
      "8000/8000 [==============================] - 1s 157us/step - loss: 0.3912 - accuracy: 0.8380\n",
      "Epoch 28/100\n",
      "8000/8000 [==============================] - 1s 159us/step - loss: 0.3893 - accuracy: 0.8396\n",
      "Epoch 29/100\n",
      "8000/8000 [==============================] - 1s 160us/step - loss: 0.3887 - accuracy: 0.8404\n",
      "Epoch 30/100\n",
      "8000/8000 [==============================] - 1s 163us/step - loss: 0.3874 - accuracy: 0.8382\n",
      "Epoch 31/100\n",
      "8000/8000 [==============================] - 1s 162us/step - loss: 0.3864 - accuracy: 0.8394\n",
      "Epoch 32/100\n",
      "8000/8000 [==============================] - 1s 160us/step - loss: 0.3828 - accuracy: 0.8396\n",
      "Epoch 33/100\n",
      "8000/8000 [==============================] - 1s 161us/step - loss: 0.3770 - accuracy: 0.8410\n",
      "Epoch 34/100\n",
      "8000/8000 [==============================] - 1s 159us/step - loss: 0.3732 - accuracy: 0.8410\n",
      "Epoch 35/100\n",
      "8000/8000 [==============================] - 1s 162us/step - loss: 0.3693 - accuracy: 0.8424\n",
      "Epoch 36/100\n",
      "8000/8000 [==============================] - 1s 159us/step - loss: 0.3662 - accuracy: 0.8422\n",
      "Epoch 37/100\n",
      "8000/8000 [==============================] - 1s 159us/step - loss: 0.3634 - accuracy: 0.8455\n",
      "Epoch 38/100\n",
      "8000/8000 [==============================] - 1s 155us/step - loss: 0.3613 - accuracy: 0.8490\n",
      "Epoch 39/100\n",
      "8000/8000 [==============================] - 1s 156us/step - loss: 0.3591 - accuracy: 0.8484\n",
      "Epoch 40/100\n",
      "8000/8000 [==============================] - 1s 156us/step - loss: 0.3575 - accuracy: 0.8519\n",
      "Epoch 41/100\n",
      "8000/8000 [==============================] - 1s 159us/step - loss: 0.3558 - accuracy: 0.8536\n",
      "Epoch 42/100\n",
      "8000/8000 [==============================] - 1s 157us/step - loss: 0.3545 - accuracy: 0.8528\n",
      "Epoch 43/100\n",
      "8000/8000 [==============================] - 1s 161us/step - loss: 0.3534 - accuracy: 0.8543\n",
      "Epoch 44/100\n",
      "8000/8000 [==============================] - 1s 158us/step - loss: 0.3526 - accuracy: 0.8526\n",
      "Epoch 45/100\n",
      "8000/8000 [==============================] - 1s 165us/step - loss: 0.3514 - accuracy: 0.8543\n",
      "Epoch 46/100\n",
      "8000/8000 [==============================] - 1s 158us/step - loss: 0.3501 - accuracy: 0.8576\n",
      "Epoch 47/100\n",
      "8000/8000 [==============================] - 1s 156us/step - loss: 0.3491 - accuracy: 0.8579\n",
      "Epoch 48/100\n",
      "8000/8000 [==============================] - 1s 151us/step - loss: 0.3483 - accuracy: 0.8585\n",
      "Epoch 49/100\n",
      "8000/8000 [==============================] - 1s 150us/step - loss: 0.3466 - accuracy: 0.8570\n",
      "Epoch 50/100\n",
      "8000/8000 [==============================] - 1s 149us/step - loss: 0.3464 - accuracy: 0.8572\n",
      "Epoch 51/100\n",
      "8000/8000 [==============================] - 1s 153us/step - loss: 0.3457 - accuracy: 0.8586\n",
      "Epoch 52/100\n",
      "8000/8000 [==============================] - 1s 154us/step - loss: 0.3456 - accuracy: 0.8583\n",
      "Epoch 53/100\n",
      "8000/8000 [==============================] - 1s 157us/step - loss: 0.3446 - accuracy: 0.8596\n",
      "Epoch 54/100\n",
      "8000/8000 [==============================] - 1s 156us/step - loss: 0.3440 - accuracy: 0.8570\n",
      "Epoch 55/100\n",
      "8000/8000 [==============================] - 1s 154us/step - loss: 0.3434 - accuracy: 0.8584\n",
      "Epoch 56/100\n",
      "8000/8000 [==============================] - 1s 153us/step - loss: 0.3431 - accuracy: 0.8585\n",
      "Epoch 57/100\n",
      "8000/8000 [==============================] - 1s 155us/step - loss: 0.3422 - accuracy: 0.8594\n",
      "Epoch 58/100\n",
      "8000/8000 [==============================] - 1s 152us/step - loss: 0.3417 - accuracy: 0.8599\n",
      "Epoch 59/100\n",
      "8000/8000 [==============================] - 1s 149us/step - loss: 0.3411 - accuracy: 0.8600\n",
      "Epoch 60/100\n",
      "8000/8000 [==============================] - 1s 150us/step - loss: 0.3403 - accuracy: 0.8589\n",
      "Epoch 61/100\n",
      "8000/8000 [==============================] - 1s 150us/step - loss: 0.3403 - accuracy: 0.8604\n",
      "Epoch 62/100\n",
      "8000/8000 [==============================] - 1s 150us/step - loss: 0.3400 - accuracy: 0.8602\n",
      "Epoch 63/100\n",
      "8000/8000 [==============================] - 1s 149us/step - loss: 0.3393 - accuracy: 0.8601\n",
      "Epoch 64/100\n",
      "8000/8000 [==============================] - 1s 153us/step - loss: 0.3379 - accuracy: 0.8601\n",
      "Epoch 65/100\n",
      "8000/8000 [==============================] - 1s 157us/step - loss: 0.3383 - accuracy: 0.8621\n",
      "Epoch 66/100\n",
      "8000/8000 [==============================] - 1s 151us/step - loss: 0.3382 - accuracy: 0.8611\n",
      "Epoch 67/100\n",
      "8000/8000 [==============================] - 1s 152us/step - loss: 0.3372 - accuracy: 0.8615\n",
      "Epoch 68/100\n",
      "8000/8000 [==============================] - 1s 159us/step - loss: 0.3379 - accuracy: 0.8605\n",
      "Epoch 69/100\n",
      "8000/8000 [==============================] - 1s 157us/step - loss: 0.3371 - accuracy: 0.8616\n",
      "Epoch 70/100\n",
      "8000/8000 [==============================] - 1s 156us/step - loss: 0.3374 - accuracy: 0.8610\n",
      "Epoch 71/100\n",
      "8000/8000 [==============================] - 1s 156us/step - loss: 0.3368 - accuracy: 0.8627\n",
      "Epoch 72/100\n",
      "8000/8000 [==============================] - 1s 156us/step - loss: 0.3370 - accuracy: 0.8614\n",
      "Epoch 73/100\n",
      "8000/8000 [==============================] - 1s 155us/step - loss: 0.3362 - accuracy: 0.8610\n",
      "Epoch 74/100\n",
      "8000/8000 [==============================] - 1s 159us/step - loss: 0.3365 - accuracy: 0.8611\n",
      "Epoch 75/100\n",
      "8000/8000 [==============================] - 1s 156us/step - loss: 0.3363 - accuracy: 0.8626\n",
      "Epoch 76/100\n",
      "8000/8000 [==============================] - 1s 155us/step - loss: 0.3358 - accuracy: 0.8614\n",
      "Epoch 77/100\n",
      "8000/8000 [==============================] - 1s 156us/step - loss: 0.3358 - accuracy: 0.8625\n",
      "Epoch 78/100\n"
     ]
    },
    {
     "name": "stdout",
     "output_type": "stream",
     "text": [
      "8000/8000 [==============================] - 1s 156us/step - loss: 0.3357 - accuracy: 0.8618\n",
      "Epoch 79/100\n",
      "8000/8000 [==============================] - 1s 155us/step - loss: 0.3357 - accuracy: 0.8611\n",
      "Epoch 80/100\n",
      "8000/8000 [==============================] - 1s 158us/step - loss: 0.3355 - accuracy: 0.8630\n",
      "Epoch 81/100\n",
      "8000/8000 [==============================] - 1s 153us/step - loss: 0.3354 - accuracy: 0.8614\n",
      "Epoch 82/100\n",
      "8000/8000 [==============================] - 1s 149us/step - loss: 0.3355 - accuracy: 0.8612\n",
      "Epoch 83/100\n",
      "8000/8000 [==============================] - 1s 159us/step - loss: 0.3360 - accuracy: 0.8619\n",
      "Epoch 84/100\n",
      "8000/8000 [==============================] - 1s 156us/step - loss: 0.3348 - accuracy: 0.8606\n",
      "Epoch 85/100\n",
      "8000/8000 [==============================] - 1s 163us/step - loss: 0.3353 - accuracy: 0.8608\n",
      "Epoch 86/100\n",
      "8000/8000 [==============================] - 1s 158us/step - loss: 0.3349 - accuracy: 0.8626\n",
      "Epoch 87/100\n",
      "8000/8000 [==============================] - 1s 160us/step - loss: 0.3352 - accuracy: 0.8622\n",
      "Epoch 88/100\n",
      "8000/8000 [==============================] - 1s 157us/step - loss: 0.3341 - accuracy: 0.8618\n",
      "Epoch 89/100\n",
      "8000/8000 [==============================] - 1s 157us/step - loss: 0.3353 - accuracy: 0.8621\n",
      "Epoch 90/100\n",
      "8000/8000 [==============================] - 1s 152us/step - loss: 0.3347 - accuracy: 0.8606\n",
      "Epoch 91/100\n",
      "8000/8000 [==============================] - 1s 154us/step - loss: 0.3347 - accuracy: 0.8615\n",
      "Epoch 92/100\n",
      "8000/8000 [==============================] - 1s 157us/step - loss: 0.3351 - accuracy: 0.8606\n",
      "Epoch 93/100\n",
      "8000/8000 [==============================] - 1s 156us/step - loss: 0.3348 - accuracy: 0.8631\n",
      "Epoch 94/100\n",
      "8000/8000 [==============================] - 1s 151us/step - loss: 0.3347 - accuracy: 0.8620\n",
      "Epoch 95/100\n",
      "8000/8000 [==============================] - 1s 151us/step - loss: 0.3343 - accuracy: 0.8616\n",
      "Epoch 96/100\n",
      "8000/8000 [==============================] - 1s 152us/step - loss: 0.3339 - accuracy: 0.8615\n",
      "Epoch 97/100\n",
      "8000/8000 [==============================] - 1s 150us/step - loss: 0.3344 - accuracy: 0.8624\n",
      "Epoch 98/100\n",
      "8000/8000 [==============================] - 1s 155us/step - loss: 0.3341 - accuracy: 0.8615\n",
      "Epoch 99/100\n",
      "8000/8000 [==============================] - 1s 156us/step - loss: 0.3343 - accuracy: 0.8589\n",
      "Epoch 100/100\n",
      "8000/8000 [==============================] - 1s 157us/step - loss: 0.3341 - accuracy: 0.8611\n"
     ]
    },
    {
     "data": {
      "text/plain": [
       "<keras.callbacks.callbacks.History at 0x20d65739688>"
      ]
     },
     "execution_count": 12,
     "metadata": {},
     "output_type": "execute_result"
    }
   ],
   "source": [
    "classifier.fit(X_train,y_train,batch_size=10,nb_epoch=100)"
   ]
  },
  {
   "cell_type": "markdown",
   "metadata": {},
   "source": [
    "### Predicting the Test result"
   ]
  },
  {
   "cell_type": "code",
   "execution_count": 13,
   "metadata": {},
   "outputs": [],
   "source": [
    "y_pred = classifier.predict(X_test)"
   ]
  },
  {
   "cell_type": "code",
   "execution_count": 14,
   "metadata": {},
   "outputs": [],
   "source": [
    "y_pred = (y_pred>0.5)\n"
   ]
  },
  {
   "cell_type": "code",
   "execution_count": 15,
   "metadata": {},
   "outputs": [
    {
     "name": "stdout",
     "output_type": "stream",
     "text": [
      "\n",
      " Confusion Matrix \n",
      " [[1501   94]\n",
      " [ 185  220]]\n"
     ]
    }
   ],
   "source": [
    "from sklearn.metrics import confusion_matrix\n",
    "cm = confusion_matrix(y_test,y_pred)\n",
    "print('\\n Confusion Matrix \\n',cm)"
   ]
  },
  {
   "cell_type": "markdown",
   "metadata": {},
   "source": [
    "### Miscellaneous:\n",
    "    \n",
    "New Customer with single prediction if a new customer will leave the bank or not. Data is as below:\n",
    "\n",
    "Geography: France\n",
    "    \n",
    "Credit Score: 600\n",
    "    \n",
    "Gender: Male\n",
    "    \n",
    "Age: 40 years old\n",
    "    \n",
    "Tenure: 3 years\n",
    "    \n",
    "Balance: $60000\n",
    "    \n",
    "Number of Products: 2\n",
    "    \n",
    "Does this customer have a credit card ? Yes\n",
    "\n",
    "Is this customer an Active Member: Yes\n",
    "    \n",
    "Estimated Salary: $50000\n",
    "    \n",
    "    "
   ]
  },
  {
   "cell_type": "code",
   "execution_count": 16,
   "metadata": {},
   "outputs": [],
   "source": [
    "new_pred = classifier.predict(sc.transform(np.array([[600,0,0,40,3,60000,2,1,1,50000]])))\n",
    "new_pred = (new_pred>0.5)"
   ]
  },
  {
   "cell_type": "code",
   "execution_count": 28,
   "metadata": {},
   "outputs": [
    {
     "name": "stdout",
     "output_type": "stream",
     "text": [
      "Prediction for new customer data will be [False]\n"
     ]
    }
   ],
   "source": [
    "print('Prediction for new customer data will be',new_pred[0])"
   ]
  },
  {
   "cell_type": "markdown",
   "metadata": {},
   "source": [
    "### Conclusion:\n",
    "    \n",
    "    \n",
    "    This marks the end of our basic Artificial Neural Network with 86% accuracy for predicting the customer churn. \n",
    "    In the next excersise we will use this model to tune the accuracy to improve the prediction."
   ]
  }
 ],
 "metadata": {
  "kernelspec": {
   "display_name": "Python 3",
   "language": "python",
   "name": "python3"
  },
  "language_info": {
   "codemirror_mode": {
    "name": "ipython",
    "version": 3
   },
   "file_extension": ".py",
   "mimetype": "text/x-python",
   "name": "python",
   "nbconvert_exporter": "python",
   "pygments_lexer": "ipython3",
   "version": "3.7.6"
  }
 },
 "nbformat": 4,
 "nbformat_minor": 2
}
